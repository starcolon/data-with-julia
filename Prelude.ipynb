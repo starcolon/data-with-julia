{
 "cells": [
  {
   "cell_type": "markdown",
   "metadata": {},
   "source": [
    "## Prelude data\n",
    "\n",
    "The notebook requires following prerequisites:\n",
    "```\n",
    "Pkg.update()\n",
    "Pkg.add(\"CSV\")\n",
    "```"
   ]
  },
  {
   "cell_type": "code",
   "execution_count": 9,
   "metadata": {
    "collapsed": false
   },
   "outputs": [],
   "source": [
    "using CSV"
   ]
  },
  {
   "cell_type": "code",
   "execution_count": 3,
   "metadata": {
    "collapsed": false
   },
   "outputs": [
    {
     "data": {
      "text/plain": [
       "9.42477796076938"
      ]
     },
     "execution_count": 3,
     "metadata": {},
     "output_type": "execute_result"
    }
   ],
   "source": [
    "π * 3"
   ]
  },
  {
   "cell_type": "code",
   "execution_count": 55,
   "metadata": {
    "collapsed": false
   },
   "outputs": [
    {
     "name": "stderr",
     "output_type": "stream",
     "text": [
      "WARNING: Method definition readCSVData(Any) in module Main at In[54]:3 overwritten at In[55]:3.\n"
     ]
    },
    {
     "data": {
      "text/html": [
       "<table class=\"data-frame\"><thead><tr><th></th><th>2.1014188538510608</th><th>-1.2885704654058074</th></tr></thead><tbody><tr><th>1</th><td>Nullable{Float32}(-2.62788)</td><td>Nullable{Float32}(-5.881)</td></tr><tr><th>2</th><td>Nullable{Float32}(2.81439)</td><td>Nullable{Float32}(2.72146)</td></tr><tr><th>3</th><td>Nullable{Float32}(2.67629)</td><td>Nullable{Float32}(-1.2082)</td></tr><tr><th>4</th><td>Nullable{Float32}(3.43626)</td><td>Nullable{Float32}(3.44076)</td></tr></tbody></table>"
      ],
      "text/plain": [
       "4×2 DataFrames.DataFrame\n",
       "│ Row │ 2.1014188538510608 │ -1.2885704654058074 │\n",
       "├─────┼────────────────────┼─────────────────────┤\n",
       "│ 1   │ -2.62788           │ -5.881              │\n",
       "│ 2   │ 2.81439            │ 2.72146             │\n",
       "│ 3   │ 2.67629            │ -1.2082             │\n",
       "│ 4   │ 3.43626            │ 3.44076             │"
      ]
     },
     "execution_count": 55,
     "metadata": {},
     "output_type": "execute_result"
    }
   ],
   "source": [
    "# Read in data sources\n",
    "function readCSVData(path)\n",
    "    return CSV.read(path; types=[Float32,Float32])\n",
    "end\n",
    "\n",
    "data = readCSVData(\"data.csv\")\n",
    "data[1:4, :]"
   ]
  },
  {
   "cell_type": "code",
   "execution_count": 52,
   "metadata": {
    "collapsed": false
   },
   "outputs": [
    {
     "ename": "LoadError",
     "evalue": "MethodError: no method matching /(::Nullable{Float64}, ::Int64)\u001b[0m\nClosest candidates are:\n  /(\u001b[1m\u001b[31m::BigFloat\u001b[0m, ::Union{Int16,Int32,Int64,Int8}) at mpfr.jl:267\n  /(\u001b[1m\u001b[31m::DataArrays.NAtype\u001b[0m, ::Number) at /Users/pataoengineer/.julia/v0.5/DataArrays/src/operators.jl:631\n  /(\u001b[1m\u001b[31m::Integer\u001b[0m, ::Integer) at int.jl:35\n  ...\u001b[0m",
     "output_type": "error",
     "traceback": [
      "MethodError: no method matching /(::Nullable{Float64}, ::Int64)\u001b[0m\nClosest candidates are:\n  /(\u001b[1m\u001b[31m::BigFloat\u001b[0m, ::Union{Int16,Int32,Int64,Int8}) at mpfr.jl:267\n  /(\u001b[1m\u001b[31m::DataArrays.NAtype\u001b[0m, ::Number) at /Users/pataoengineer/.julia/v0.5/DataArrays/src/operators.jl:631\n  /(\u001b[1m\u001b[31m::Integer\u001b[0m, ::Integer) at int.jl:35\n  ...\u001b[0m",
      "",
      " in mean(::NullableArrays.NullableArray{Float64,1}) at ./statistics.jl:28"
     ]
    }
   ],
   "source": [
    "mean(data[:,1])"
   ]
  },
  {
   "cell_type": "code",
   "execution_count": null,
   "metadata": {
    "collapsed": true
   },
   "outputs": [],
   "source": []
  }
 ],
 "metadata": {
  "kernelspec": {
   "display_name": "Julia 0.5.0",
   "language": "julia",
   "name": "julia-0.5"
  },
  "language_info": {
   "file_extension": ".jl",
   "mimetype": "application/julia",
   "name": "julia",
   "version": "0.5.0"
  }
 },
 "nbformat": 4,
 "nbformat_minor": 2
}
