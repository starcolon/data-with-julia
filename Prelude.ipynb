{
 "cells": [
  {
   "cell_type": "markdown",
   "metadata": {},
   "source": [
    "## Prelude data\n",
    "\n",
    "The notebook requires following prerequisites:\n",
    "```\n",
    "Pkg.update()\n",
    "Pkg.add(\"CSV\")\n",
    "Pkg.add(\"Plots\")\n",
    "Pkg.add(\"PyPlot\")\n",
    "```\n",
    "\n",
    "**NOTE** If `PyPlot` fails to load, try `Pkg.build(\"PyPlot\")` after installing the package from the Julia command line."
   ]
  },
  {
   "cell_type": "code",
   "execution_count": 32,
   "metadata": {
    "collapsed": false
   },
   "outputs": [
    {
     "data": {
      "text/plain": [
       "Plots.PlotlyJSBackend()"
      ]
     },
     "execution_count": 32,
     "metadata": {},
     "output_type": "execute_result"
    }
   ],
   "source": [
    "using CSV\n",
    "using Plots\n",
    "\n",
    "pygui(true)\n",
    "plotlyjs()"
   ]
  },
  {
   "cell_type": "code",
   "execution_count": 71,
   "metadata": {
    "collapsed": false
   },
   "outputs": [
    {
     "name": "stderr",
     "output_type": "stream",
     "text": [
      "WARNING: Method definition readCSVData(Any) in module Main at In[43]:3 overwritten at In[71]:3.\n"
     ]
    },
    {
     "data": {
      "text/html": [
       "<table class=\"data-frame\"><thead><tr><th></th><th>Column1</th><th>Column2</th></tr></thead><tbody><tr><th>1</th><td>Nullable{Float32}(2.10142)</td><td>Nullable{Float32}(-1.28857)</td></tr><tr><th>2</th><td>Nullable{Float32}(-2.62788)</td><td>Nullable{Float32}(-5.881)</td></tr><tr><th>3</th><td>Nullable{Float32}(2.81439)</td><td>Nullable{Float32}(2.72146)</td></tr><tr><th>4</th><td>Nullable{Float32}(2.67629)</td><td>Nullable{Float32}(-1.2082)</td></tr></tbody></table>"
      ],
      "text/plain": [
       "4×2 DataFrames.DataFrame\n",
       "│ Row │ Column1  │ Column2  │\n",
       "├─────┼──────────┼──────────┤\n",
       "│ 1   │ 2.10142  │ -1.28857 │\n",
       "│ 2   │ -2.62788 │ -5.881   │\n",
       "│ 3   │ 2.81439  │ 2.72146  │\n",
       "│ 4   │ 2.67629  │ -1.2082  │"
      ]
     },
     "execution_count": 71,
     "metadata": {},
     "output_type": "execute_result"
    }
   ],
   "source": [
    "# Read in data sources\n",
    "function readCSVData(path)\n",
    "    return CSV.read(path; types=[Float32,Float32], header=false)\n",
    "end\n",
    "\n",
    "data = readCSVData(\"data.csv\")\n",
    "d    = Array(data)\n",
    "x    = map(get, d[:,1])\n",
    "y    = map(get, d[:,2])\n",
    "\n",
    "# Preview of the data\n",
    "data[1:4, :]"
   ]
  },
  {
   "cell_type": "code",
   "execution_count": 70,
   "metadata": {
    "collapsed": false
   },
   "outputs": [
    {
     "data": {
      "text/plain": [
       "2.101419f0"
      ]
     },
     "execution_count": 70,
     "metadata": {},
     "output_type": "execute_result"
    }
   ],
   "source": [
    "x"
   ]
  },
  {
   "cell_type": "code",
   "execution_count": 61,
   "metadata": {
    "collapsed": false
   },
   "outputs": [
    {
     "data": {
      "text/plain": [
       "(1,3,5)"
      ]
     },
     "execution_count": 61,
     "metadata": {},
     "output_type": "execute_result"
    }
   ],
   "source": [
    "σ, ρ, β = 1, 3, 5"
   ]
  },
  {
   "cell_type": "code",
   "execution_count": null,
   "metadata": {
    "collapsed": true
   },
   "outputs": [],
   "source": []
  }
 ],
 "metadata": {
  "kernelspec": {
   "display_name": "Julia 0.5.0",
   "language": "julia",
   "name": "julia-0.5"
  },
  "language_info": {
   "file_extension": ".jl",
   "mimetype": "application/julia",
   "name": "julia",
   "version": "0.5.0"
  }
 },
 "nbformat": 4,
 "nbformat_minor": 2
}
